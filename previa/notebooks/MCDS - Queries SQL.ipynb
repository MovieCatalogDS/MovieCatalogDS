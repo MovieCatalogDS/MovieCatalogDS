{
 "cells": [
  {
   "cell_type": "code",
   "execution_count": 1,
   "id": "35efa774",
   "metadata": {},
   "outputs": [],
   "source": [
    "%defaultDatasource jdbc:h2:mem:db"
   ]
  },
  {
   "cell_type": "code",
   "execution_count": 2,
   "id": "ee3e3c6a",
   "metadata": {},
   "outputs": [],
   "source": [
    "DROP TABLE IF EXISTS Filme;\n",
    "DROP TABLE IF EXISTS Avaliador;\n",
    "DROP TABLE IF EXISTS Avaliacao;\n",
    "DROP TABLE IF EXISTS Franquia;\n",
    "DROP TABLE IF EXISTS FranquiaFilme;\n",
    "DROP TABLE IF EXISTS Genero;\n",
    "DROP TABLE IF EXISTS GeneroFilme;\n",
    "DROP TABLE IF EXISTS Pessoa;\n",
    "DROP TABLE IF EXISTS PessoaFilme;\n",
    "DROP TABLE IF EXISTS Sequencia;\n",
    "DROP TABLE IF EXISTS Streaming;\n",
    "DROP TABLE IF EXISTS StreamingFilme;"
   ]
  },
  {
   "cell_type": "code",
   "execution_count": 3,
   "id": "9816f7e9",
   "metadata": {},
   "outputs": [],
   "source": [
    "CREATE TABLE Filme (\n",
    "    id_TMDB INTEGER NOT NULL,\n",
    "    id_IMDB VARCHAR(20) NOT NULL,\n",
    "    titulo VARCHAR(200),\n",
    "    titulo_original VARCHAR(200),\n",
    "    sinopse VARCHAR(1000),\n",
    "    duracao INTEGER,\n",
    "    ano INTEGER,\n",
    "    classificacao VARCHAR(50),\n",
    "    situacao VARCHAR(20),\n",
    "    idioma_original VARCHAR(5),\n",
    "    orcamento FLOAT,\n",
    "    receita FLOAT,\n",
    "    num_oscars FLOAT,\n",
    "    PRIMARY KEY(id_TMDB, id_IMDB)\n",
    ") AS SELECT\n",
    "    id_TMDB,\n",
    "    id_IMDB,\n",
    "    titulo,\n",
    "    titulo_original,\n",
    "    sinopse,\n",
    "    duracao,\n",
    "    ano,\n",
    "    classificacao,\n",
    "    situacao,\n",
    "    idioma_original,\n",
    "    orcamento,\n",
    "    receita,\n",
    "    num_oscars\n",
    "FROM CSVREAD('CSV/Filme.csv');"
   ]
  },
  {
   "cell_type": "code",
   "execution_count": 4,
   "id": "08bf2a66",
   "metadata": {},
   "outputs": [],
   "source": [
    "CREATE TABLE Avaliador (\n",
    "    id VARCHAR(10) NOT NULL,\n",
    "    nome VARCHAR(10),\n",
    "    PRIMARY KEY(id)\n",
    ") AS SELECT\n",
    "    id,\n",
    "    nome\n",
    "FROM CSVREAD('CSV/Avaliador.csv');\n",
    "\n",
    "CREATE TABLE Avaliacao (\n",
    "    id_avaliador VARCHAR(10) NOT NULL,\n",
    "    id_filme INTEGER NOT NULL,\n",
    "    nota FLOAT,\n",
    "    PRIMARY KEY(id_avaliador, id_filme),\n",
    "    FOREIGN KEY(id_avaliador)\n",
    "      REFERENCES Avaliador(id)\n",
    "        ON DELETE NO ACTION\n",
    "        ON UPDATE NO ACTION,\n",
    "    FOREIGN KEY(id_filme)\n",
    "      REFERENCES Filme(id_TMDB)\n",
    "        ON DELETE NO ACTION\n",
    "        ON UPDATE NO ACTION\n",
    ") AS SELECT\n",
    "    id_avaliador,\n",
    "    id_filme_TMDB,\n",
    "    nota\n",
    "FROM CSVREAD('CSV/Avaliacao.csv');"
   ]
  },
  {
   "cell_type": "code",
   "execution_count": 5,
   "id": "eb25a7e2",
   "metadata": {},
   "outputs": [],
   "source": [
    "CREATE TABLE Franquia (\n",
    "    nome VARCHAR(200) NOT NULL,\n",
    "    PRIMARY KEY(nome)\n",
    ") AS SELECT\n",
    "    nome\n",
    "FROM CSVREAD('CSV/Franquia.csv');\n",
    "\n",
    "CREATE TABLE FranquiaFilme (\n",
    "    nome_franquia VARCHAR(200) NOT NULL,\n",
    "    id_filme INTEGER NOT NULL,\n",
    "    PRIMARY KEY(nome_franquia, id_filme),\n",
    "    FOREIGN KEY(nome_franquia)\n",
    "      REFERENCES Franquia(nome)\n",
    "        ON DELETE NO ACTION\n",
    "        ON UPDATE NO ACTION,\n",
    "    FOREIGN KEY(id_filme)\n",
    "      REFERENCES Filme(id_TMDB)\n",
    "        ON DELETE NO ACTION\n",
    "        ON UPDATE NO ACTION\n",
    ") AS SELECT\n",
    "    nome_franquia,\n",
    "    id_filme_TMDB\n",
    "FROM CSVREAD('CSV/FranquiaFilme.csv');\n",
    "\n",
    "CREATE TABLE Genero (\n",
    "    nome VARCHAR(50) NOT NULL,\n",
    "    PRIMARY KEY(nome)\n",
    ") AS SELECT\n",
    "    nome\n",
    "FROM CSVREAD('CSV/Genero.csv');\n",
    "\n",
    "CREATE TABLE GeneroFilme (\n",
    "    nome_genero VARCHAR(50) NOT NULL,\n",
    "    id_filme INTEGER NOT NULL,\n",
    "    PRIMARY KEY(nome_genero, id_filme),\n",
    "    FOREIGN KEY(nome_genero)\n",
    "      REFERENCES Genero(nome)\n",
    "        ON DELETE NO ACTION\n",
    "        ON UPDATE NO ACTION,\n",
    "    FOREIGN KEY(id_filme)\n",
    "      REFERENCES Filme(id_TMDB)\n",
    "        ON DELETE NO ACTION\n",
    "        ON UPDATE NO ACTION\n",
    ") AS SELECT\n",
    "    nome_genero,\n",
    "    id_filme_TMDB\n",
    "FROM CSVREAD('CSV/GeneroFilme.csv');"
   ]
  },
  {
   "cell_type": "code",
   "execution_count": 6,
   "id": "b7577866",
   "metadata": {},
   "outputs": [],
   "source": [
    "CREATE TABLE Pessoa (\n",
    "    id_TMDB INTEGER NOT NULL,\n",
    "    id_IMDB VARCHAR(20),\n",
    "    nome VARCHAR(200),\n",
    "    nacionalidade VARCHAR(300),\n",
    "    num_oscars INTEGER\n",
    ") AS SELECT\n",
    "    id_TMDB,\n",
    "    id_IMDB,\n",
    "    nome,\n",
    "    nacionalidade,\n",
    "    num_oscars\n",
    "FROM CSVREAD('CSV/Pessoa.csv');\n",
    "\n",
    "CREATE TABLE PessoaFilme (\n",
    "    id_pessoa INTEGER NOT NULL,\n",
    "    id_filme INTEGER NOT NULL,\n",
    "    ator BOOL,\n",
    "    diretor BOOL,\n",
    "    roteirista BOOL,\n",
    "    PRIMARY KEY(id_pessoa, id_filme),\n",
    "    FOREIGN KEY(id_pessoa)\n",
    "      REFERENCES Pessoa(id_TMDB)\n",
    "        ON DELETE NO ACTION\n",
    "        ON UPDATE NO ACTION,\n",
    "    FOREIGN KEY(id_filme)\n",
    "      REFERENCES Filme(id_TMDB)\n",
    "        ON DELETE NO ACTION\n",
    "        ON UPDATE NO ACTION\n",
    ") AS SELECT\n",
    "    id_pessoa_TMDB,\n",
    "    id_filme_TMDB,\n",
    "    ator,\n",
    "    diretor,\n",
    "    roteirista\n",
    "FROM CSVREAD('CSV/PessoaFilme.csv');"
   ]
  },
  {
   "cell_type": "code",
   "execution_count": 7,
   "id": "7a8b8c3b",
   "metadata": {},
   "outputs": [],
   "source": [
    "CREATE TABLE Sequencia (\n",
    "    id_filme INTEGER NOT NULL,\n",
    "    id_filme_sequencia INTEGER NOT NULL,\n",
    "    PRIMARY KEY(id_filme, id_filme_sequencia),\n",
    "    FOREIGN KEY(id_filme)\n",
    "      REFERENCES Filme(id_TMDB)\n",
    "        ON DELETE NO ACTION\n",
    "        ON UPDATE NO ACTION,\n",
    "    FOREIGN KEY(id_filme_sequencia)\n",
    "      REFERENCES Filme(id_TMDB)\n",
    "        ON DELETE NO ACTION\n",
    "        ON UPDATE NO ACTION\n",
    ") AS SELECT\n",
    "    id_filme_TMDB,\n",
    "    id_filme_sequencia_TMDB\n",
    "FROM CSVREAD('CSV/Sequencia.csv');\n",
    "\n",
    "CREATE TABLE Streaming (\n",
    "    nome VARCHAR(150) NOT NULL,\n",
    "    PRIMARY KEY(nome)\n",
    ") AS SELECT\n",
    "    nome\n",
    "FROM CSVREAD('CSV/Streaming.csv');\n",
    "\n",
    "CREATE TABLE StreamingFilme (\n",
    "    nome_streaming VARCHAR(150) NOT NULL,\n",
    "    id_filme INTEGER NOT NULL,\n",
    "    PRIMARY KEY(nome_streaming, id_filme),\n",
    "    FOREIGN KEY(nome_streaming)\n",
    "      REFERENCES Streaming(nome)\n",
    "        ON DELETE NO ACTION\n",
    "        ON UPDATE NO ACTION,\n",
    "    FOREIGN KEY(id_filme)\n",
    "      REFERENCES Filme(id_TMDB)\n",
    "        ON DELETE NO ACTION\n",
    "        ON UPDATE NO ACTION\n",
    ") AS SELECT\n",
    "    nome_streaming,\n",
    "    id_filme_TMDB\n",
    "FROM CSVREAD('CSV/StreamingFilme.csv');"
   ]
  },
  {
   "cell_type": "code",
   "execution_count": 8,
   "id": "cc9f3690",
   "metadata": {},
   "outputs": [
    {
     "data": {
      "application/vnd.jupyter.widget-view+json": {
       "model_id": "3a2c4d68-b549-480d-a9af-e5bfacca938a",
       "version_major": 2,
       "version_minor": 0
      },
      "method": "display_data"
     },
     "metadata": {},
     "output_type": "display_data"
    },
    {
     "data": {
      "application/vnd.jupyter.widget-view+json": {
       "model_id": "1b1d3961-9600-49f7-a8fc-c287a168ed0a",
       "version_major": 2,
       "version_minor": 0
      },
      "method": "display_data"
     },
     "metadata": {},
     "output_type": "display_data"
    },
    {
     "data": {
      "application/vnd.jupyter.widget-view+json": {
       "model_id": "b3138dfb-ace4-4966-b4d1-f7b94477e403",
       "version_major": 2,
       "version_minor": 0
      },
      "method": "display_data"
     },
     "metadata": {},
     "output_type": "display_data"
    },
    {
     "data": {
      "application/vnd.jupyter.widget-view+json": {
       "model_id": "5076c146-9db4-456e-aa32-130aee75255c",
       "version_major": 2,
       "version_minor": 0
      },
      "method": "display_data"
     },
     "metadata": {},
     "output_type": "display_data"
    },
    {
     "data": {
      "application/vnd.jupyter.widget-view+json": {
       "model_id": "b5545e74-ca1c-45c7-b58a-87ef7b67f879",
       "version_major": 2,
       "version_minor": 0
      },
      "method": "display_data"
     },
     "metadata": {},
     "output_type": "display_data"
    },
    {
     "data": {
      "application/vnd.jupyter.widget-view+json": {
       "model_id": "bf80afa0-a8ce-4119-b6e9-72a443afed97",
       "version_major": 2,
       "version_minor": 0
      },
      "method": "display_data"
     },
     "metadata": {},
     "output_type": "display_data"
    },
    {
     "data": {
      "application/vnd.jupyter.widget-view+json": {
       "model_id": "9da552d0-43a6-44f6-8097-432f1875c7de",
       "version_major": 2,
       "version_minor": 0
      },
      "method": "display_data"
     },
     "metadata": {},
     "output_type": "display_data"
    },
    {
     "data": {
      "application/vnd.jupyter.widget-view+json": {
       "model_id": "7fb5ded4-777f-46df-b377-d79d97f62d93",
       "version_major": 2,
       "version_minor": 0
      },
      "method": "display_data"
     },
     "metadata": {},
     "output_type": "display_data"
    },
    {
     "data": {
      "application/vnd.jupyter.widget-view+json": {
       "model_id": "53769e9a-b473-422a-97fe-006b3589685a",
       "version_major": 2,
       "version_minor": 0
      },
      "method": "display_data"
     },
     "metadata": {},
     "output_type": "display_data"
    },
    {
     "data": {
      "application/vnd.jupyter.widget-view+json": {
       "model_id": "53dfa03b-ac3c-406c-a6eb-3d4d461a6056",
       "version_major": 2,
       "version_minor": 0
      },
      "method": "display_data"
     },
     "metadata": {},
     "output_type": "display_data"
    },
    {
     "data": {
      "application/vnd.jupyter.widget-view+json": {
       "model_id": "65a37910-50f4-4e96-95bc-d33e6c6a2d9a",
       "version_major": 2,
       "version_minor": 0
      },
      "method": "display_data"
     },
     "metadata": {},
     "output_type": "display_data"
    },
    {
     "data": {
      "application/vnd.jupyter.widget-view+json": {
       "model_id": "738bb036-036f-4d94-8a26-2bb1b2c3f93d",
       "version_major": 2,
       "version_minor": 0
      },
      "method": "display_data"
     },
     "metadata": {},
     "output_type": "display_data"
    }
   ],
   "source": [
    "SELECT * FROM Filme;\n",
    "SELECT * FROM Avaliador;\n",
    "SELECT * FROM Avaliacao;\n",
    "SELECT * FROM Franquia;\n",
    "SELECT * FROM FranquiaFilme;\n",
    "SELECT * FROM Genero;\n",
    "SELECT * FROM GeneroFilme;\n",
    "SELECT * FROM Pessoa;\n",
    "SELECT * FROM PessoaFilme;\n",
    "SELECT * FROM Sequencia;\n",
    "SELECT * FROM Streaming;\n",
    "SELECT * FROM StreamingFilme;"
   ]
  },
  {
   "cell_type": "markdown",
   "id": "acf94dda",
   "metadata": {},
   "source": [
    "# Queries no Dataset"
   ]
  },
  {
   "cell_type": "code",
   "execution_count": 9,
   "id": "6dfb1e2f",
   "metadata": {},
   "outputs": [
    {
     "data": {
      "application/vnd.jupyter.widget-view+json": {
       "model_id": "4359de77-8116-4812-ae6c-dd12ebad1870",
       "version_major": 2,
       "version_minor": 0
      },
      "method": "display_data"
     },
     "metadata": {},
     "output_type": "display_data"
    },
    {
     "data": {
      "application/vnd.jupyter.widget-view+json": {
       "model_id": "ad9b1830-5af5-4b7b-a9fb-67f89355cf12",
       "version_major": 2,
       "version_minor": 0
      },
      "method": "display_data"
     },
     "metadata": {},
     "output_type": "display_data"
    }
   ],
   "source": [
    "/* Relação entre sucesso com o público (receita)\n",
    "   e sucesso com a crítica (nota média) dos filmes */\n",
    "\n",
    "DROP TABLE IF EXISTS FilmeReceitaNota;\n",
    "\n",
    "CREATE VIEW FilmeReceitaNota AS\n",
    "    SELECT A.id_filme, F.titulo, F.ano, F.receita, AVG(A.nota) nota_media\n",
    "        FROM Avaliacao A, Filme F\n",
    "        WHERE A.id_filme = F.id_TMDB\n",
    "        GROUP BY A.id_filme;\n",
    "\n",
    "-- Ordenação decrescente por receita\n",
    "SELECT titulo, receita, nota_media \n",
    "    FROM FilmeReceitaNota\n",
    "    ORDER BY receita DESC;\n",
    "\n",
    "-- Ordenação decrescente por nota média\n",
    "SELECT titulo, receita, nota_media \n",
    "    FROM FilmeReceitaNota\n",
    "    ORDER BY nota_media DESC;"
   ]
  },
  {
   "cell_type": "code",
   "execution_count": 10,
   "id": "91e930bf",
   "metadata": {},
   "outputs": [
    {
     "data": {
      "application/vnd.jupyter.widget-view+json": {
       "model_id": "6cc2089c-0b37-44db-adc9-f95b59c3e34b",
       "version_major": 2,
       "version_minor": 0
      },
      "method": "display_data"
     },
     "metadata": {},
     "output_type": "display_data"
    }
   ],
   "source": [
    "/* Gênero que fez mais sucesso com a crítica, isto é, \n",
    "   que tem os filmes com as melhores notas médias, na década de 2000 */\n",
    "\n",
    "DROP TABLE IF EXISTS GeneroCritica;\n",
    "\n",
    "CREATE VIEW GeneroCritica AS\n",
    "    SELECT G.nome, SUM(F.nota_media) nota_total, COUNT(F.id_filme) qtdade_filme\n",
    "        FROM Genero G, FilmeReceitaNota F, GeneroFilme GF\n",
    "        WHERE G.nome = GF.nome_genero\n",
    "              AND F.id_filme = GF.id_filme\n",
    "              AND ((F.ano >= 2000) AND (F.ano < 2010))\n",
    "        GROUP BY G.nome;\n",
    "\n",
    "SELECT nome \n",
    "    FROM GeneroCritica\n",
    "    WHERE (nota_total / qtdade_filme) = (SELECT MAX(nota_total / qtdade_filme)\n",
    "                                             FROM GeneroCritica);"
   ]
  },
  {
   "cell_type": "code",
   "execution_count": 11,
   "id": "f5403ed0",
   "metadata": {},
   "outputs": [
    {
     "data": {
      "text/plain": [
       "Ficção científica"
      ]
     },
     "execution_count": 11,
     "metadata": {},
     "output_type": "execute_result"
    }
   ],
   "source": [
    "/* Gênero que fez mais sucesso o público, isto é, \n",
    "   que tem os filmes com a maior renda média, na década de 2000 */\n",
    "\n",
    "DROP TABLE IF EXISTS GeneroPublico;\n",
    "\n",
    "CREATE VIEW GeneroPublico AS\n",
    "    SELECT G.nome, SUM(F.receita) receita_total, COUNT(F.id_filme) qtdade_filme\n",
    "        FROM Genero G, FilmeReceitaNota F, GeneroFilme GF\n",
    "        WHERE G.nome = GF.nome_genero\n",
    "              AND F.id_filme = GF.id_filme\n",
    "              AND ((F.ano >= 2000) AND (F.ano < 2010))\n",
    "        GROUP BY G.nome;\n",
    "        \n",
    "SELECT nome\n",
    "    FROM GeneroPublico\n",
    "    WHERE (receita_total / qtdade_filme) = (SELECT MAX(receita_total / qtdade_filme)\n",
    "                                              FROM GeneroPublico);"
   ]
  },
  {
   "cell_type": "code",
   "execution_count": 12,
   "id": "749fa34f",
   "metadata": {},
   "outputs": [
    {
     "data": {
      "text/plain": [
       "The Lord of the Rings"
      ]
     },
     "execution_count": 12,
     "metadata": {},
     "output_type": "execute_result"
    }
   ],
   "source": [
    "/* Franquia que fez mais sucesso com a crítica,\n",
    "   isto é, que tem os filmes com a maior nota média */\n",
    "\n",
    "DROP TABLE IF EXISTS FranquiaCritica;\n",
    "\n",
    "CREATE VIEW FranquiaCritica AS\n",
    "    SELECT FR.nome, SUM(FI.nota_media) nota_total, COUNT(FF.id_filme) qtdade_filme\n",
    "        FROM Franquia FR, FilmeReceitaNota FI, FranquiaFilme FF \n",
    "        WHERE FR.nome = FF.nome_franquia\n",
    "              AND FI.id_filme = FF.id_filme\n",
    "        GROUP BY FR.nome;\n",
    "        \n",
    "SELECT nome\n",
    "    FROM FranquiaCritica\n",
    "    WHERE (nota_total / qtdade_filme) = (SELECT MAX(nota_total / qtdade_filme)\n",
    "                                             FROM FranquiaCritica);"
   ]
  },
  {
   "cell_type": "code",
   "execution_count": 13,
   "id": "d028ed93",
   "metadata": {},
   "outputs": [
    {
     "data": {
      "text/plain": [
       "Avatar Collection"
      ]
     },
     "execution_count": 13,
     "metadata": {},
     "output_type": "execute_result"
    }
   ],
   "source": [
    "/* Franquia que fez mais sucesso com o público,\n",
    "   isto é, que tem os filmes com a maior renda média */\n",
    "\n",
    "DROP TABLE IF EXISTS FranquiaPublico;\n",
    "\n",
    "CREATE VIEW FranquiaPublico AS\n",
    "    SELECT FR.nome, SUM(FI.receita) receita_total, COUNT(FF.id_filme) qtdade_filme\n",
    "        FROM Franquia FR, Filme FI, FranquiaFilme FF \n",
    "        WHERE FR.nome = FF.nome_franquia\n",
    "              AND FI.id_TMDB = FF.id_filme\n",
    "        GROUP BY FR.nome;\n",
    "        \n",
    "SELECT nome\n",
    "    FROM FranquiaPublico\n",
    "    WHERE (receita_total / qtdade_filme) = (SELECT MAX(receita_total / qtdade_filme)\n",
    "                                              FROM FranquiaPublico);"
   ]
  }
 ],
 "metadata": {
  "kernelspec": {
   "display_name": "SQL",
   "language": "SQL",
   "name": "sql"
  },
  "language_info": {
   "codemirror_mode": "sql",
   "file_extension": ".sql",
   "mimetype": "",
   "name": "SQL",
   "nbconverter_exporter": "",
   "version": ""
  },
  "toc": {
   "base_numbering": 1,
   "nav_menu": {},
   "number_sections": false,
   "sideBar": false,
   "skip_h1_title": false,
   "title_cell": "Table of Contents",
   "title_sidebar": "Contents",
   "toc_cell": false,
   "toc_position": {},
   "toc_section_display": false,
   "toc_window_display": false
  }
 },
 "nbformat": 4,
 "nbformat_minor": 5
}
